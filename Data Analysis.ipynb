{
 "cells": [
  {
   "cell_type": "markdown",
   "source": [
    "# CHECKEN VOOR INLEVERING"
   ],
   "metadata": {
    "collapsed": false
   }
  },
  {
   "cell_type": "markdown",
   "source": [
    "- Is context uitgebreid genoeg?\n",
    "- Zijn de aannames compleet?\n",
    "- Worden alle aannames verdedigd?\n",
    "- \"De stroom aan nieuwe COVID-patiënten is redelijk consistent; er is geen sprake van vlagen in bepaalde seizoenen.\" -> klopt dit?\n",
    "- Tijdspanne inderdaad 3 maanden? En hoe groot is elke tijdstap in de simulatie?\n",
    "-"
   ],
   "metadata": {
    "collapsed": false
   }
  },
  {
   "cell_type": "markdown",
   "source": [
    "# Setup"
   ],
   "metadata": {
    "collapsed": false
   }
  },
  {
   "cell_type": "markdown",
   "source": [
    "## Imports"
   ],
   "metadata": {
    "collapsed": false
   }
  },
  {
   "cell_type": "code",
   "execution_count": 24,
   "outputs": [],
   "source": [
    "# Imports\n",
    "import pandas as pd\n",
    "import itertools\n",
    "\n",
    "from IPython.display import Image"
   ],
   "metadata": {
    "collapsed": false
   }
  },
  {
   "cell_type": "markdown",
   "source": [
    "## Configs"
   ],
   "metadata": {
    "collapsed": false
   }
  },
  {
   "cell_type": "markdown",
   "source": [
    "Hier kunnen we bepalen welke verschillende configuraties we willen testen, en genereren op basis daarvan alle configuratie-mogelijkheden.\n",
    "We willen testen met een totale bedcapaciteit van 20-40 bedden (wat als indicatie gegeven werd door de opdrachtgever) en een totaal van 5 (alle) verschillende specialisaties. Het probleem dat hierdoor ontstaat, is dat er te veel mogelijke combinaties bestaan van verschillende bedconfiguraties (50,000+). Om dit probleem tegen te gaan, beperken we het aantal mogelijke combinaties door bedcapaciteit steeds met 5 te verhogen en het aantal bedden van minder belangrijke specialisaties minder vaak mogen voorkomen in de combinaties."
   ],
   "metadata": {
    "collapsed": false
   }
  },
  {
   "cell_type": "code",
   "execution_count": 29,
   "outputs": [
    {
     "data": {
      "text/plain": "2919"
     },
     "execution_count": 29,
     "metadata": {},
     "output_type": "execute_result"
    }
   ],
   "source": [
    "# Genereer alle mogelijke verdelingen van bedtype die optellen tot de bedcapaciteit\n",
    "def generate_configurations(bed_capacity_range, num_specializations, max_occurrence):\n",
    "    configurations = []\n",
    "    for capacity in bed_capacity_range:\n",
    "        for beds_distribution in itertools.combinations_with_replacement(range(capacity + 1), num_specializations):\n",
    "            if sum(beds_distribution) <= capacity:\n",
    "                config = {}\n",
    "                valid_config = True\n",
    "\n",
    "                for i, beds in enumerate(beds_distribution, start=1):\n",
    "                    bed_type = f'Specialisatie_{i}'\n",
    "                    max_percentage = max_occurrence.get(bed_type, 1)  # Standaard 100% als niet gespecificeerd\n",
    "                    if beds / capacity <= max_percentage:\n",
    "                        config[bed_type] = beds\n",
    "                    else:\n",
    "                        valid_config = False\n",
    "                        break\n",
    "\n",
    "                if valid_config:\n",
    "                    generic_beds = capacity - sum(beds_distribution)\n",
    "                    config['Generiek'] = generic_beds\n",
    "                    configurations.append(config)\n",
    "\n",
    "    return configurations\n",
    "\n",
    "# Parameters instellen\n",
    "bed_capacity_range = range(20, 41, 5)  # AANTAL BEDDEN in stappen van 5\n",
    "num_specializations = 5               # AANTAL TYPE BEDDEN (INCL. GENERIEK)\n",
    "max_occurrence = {'Generiek': 1, 'Specialisatie_2': 0.6, 'Specialisatie_3': 0.2, 'Specialisatie_4': 0.2, 'Specialisatie_5': 0.2}  # Maximale percentages\n",
    "\n",
    "configurations = generate_configurations(bed_capacity_range, num_specializations, max_occurrence)\n",
    "\n",
    "# Toon aantal configuraties\n",
    "len(configurations)"
   ],
   "metadata": {
    "collapsed": false
   }
  },
  {
   "cell_type": "markdown",
   "source": [
    "## Prepareren Data"
   ],
   "metadata": {
    "collapsed": false
   }
  },
  {
   "cell_type": "code",
   "execution_count": 27,
   "outputs": [
    {
     "data": {
      "text/plain": "  Configuratie_ID  Bedcapaciteit  Aantal_GeneriekBed  Aantal_InfectieBed  \\\n0       Config_00             25                   5                   8   \n\n   Aantal_ABed  Aantal_BBed  Aantal_CBed Bezettingsgraad  Aantal_Afwijzingen  \\\n0            4            4            4             75%                  69   \n\n   Aantal_Geplande_Patienten  Aantal_Ongeplande_Patienten  \\\n0                         21                          420   \n\n   Aantal_Herplande_Patienten  Gemiddelde_Verblijfsduur Max_Bezettingsgraad  \\\n0                           4                       666                 95%   \n\n   Simulatie_Stappen  \n0              10000  ",
      "text/html": "<div>\n<style scoped>\n    .dataframe tbody tr th:only-of-type {\n        vertical-align: middle;\n    }\n\n    .dataframe tbody tr th {\n        vertical-align: top;\n    }\n\n    .dataframe thead th {\n        text-align: right;\n    }\n</style>\n<table border=\"1\" class=\"dataframe\">\n  <thead>\n    <tr style=\"text-align: right;\">\n      <th></th>\n      <th>Configuratie_ID</th>\n      <th>Bedcapaciteit</th>\n      <th>Aantal_GeneriekBed</th>\n      <th>Aantal_InfectieBed</th>\n      <th>Aantal_ABed</th>\n      <th>Aantal_BBed</th>\n      <th>Aantal_CBed</th>\n      <th>Bezettingsgraad</th>\n      <th>Aantal_Afwijzingen</th>\n      <th>Aantal_Geplande_Patienten</th>\n      <th>Aantal_Ongeplande_Patienten</th>\n      <th>Aantal_Herplande_Patienten</th>\n      <th>Gemiddelde_Verblijfsduur</th>\n      <th>Max_Bezettingsgraad</th>\n      <th>Simulatie_Stappen</th>\n    </tr>\n  </thead>\n  <tbody>\n    <tr>\n      <th>0</th>\n      <td>Config_00</td>\n      <td>25</td>\n      <td>5</td>\n      <td>8</td>\n      <td>4</td>\n      <td>4</td>\n      <td>4</td>\n      <td>75%</td>\n      <td>69</td>\n      <td>21</td>\n      <td>420</td>\n      <td>4</td>\n      <td>666</td>\n      <td>95%</td>\n      <td>10000</td>\n    </tr>\n  </tbody>\n</table>\n</div>"
     },
     "execution_count": 27,
     "metadata": {},
     "output_type": "execute_result"
    }
   ],
   "source": [
    "# Kolommen en dummy-rij definiëren\n",
    "columns = [\"Configuratie_ID\", \"Bedcapaciteit\", \"Aantal_GeneriekBed\", \"Aantal_InfectieBed\",\n",
    "           \"Aantal_ABed\", \"Aantal_BBed\", \"Aantal_CBed\", \"Bezettingsgraad\",\n",
    "           \"Aantal_Afwijzingen\", \"Aantal_Geplande_Patienten\", \"Aantal_Ongeplande_Patienten\",\n",
    "           \"Aantal_Herplande_Patienten\", \"Gemiddelde_Verblijfsduur\", \"Max_Bezettingsgraad\",\n",
    "           \"Simulatie_Stappen\"]\n",
    "\n",
    "dummy_data = [[\"Config_00\", 25, 5, 8, 4, 4, 4, \"75%\", 69, 21, 420, 4, 666, \"95%\", 10000]]\n",
    "\n",
    "# Aanmaken Pandas dataframe en deze opslaan als CSV\n",
    "df = pd.DataFrame(dummy_data, columns=columns)\n",
    "df.to_csv('Analysis.csv', index=False)\n",
    "\n",
    "df.head()"
   ],
   "metadata": {
    "collapsed": false
   }
  },
  {
   "cell_type": "markdown",
   "source": [
    "## Runnen Simulaties"
   ],
   "metadata": {
    "collapsed": false
   }
  },
  {
   "cell_type": "code",
   "execution_count": 27,
   "outputs": [],
   "source": [],
   "metadata": {
    "collapsed": false
   }
  },
  {
   "cell_type": "markdown",
   "source": [],
   "metadata": {
    "collapsed": false
   }
  },
  {
   "cell_type": "markdown",
   "source": [
    "# Functies"
   ],
   "metadata": {
    "collapsed": false
   }
  },
  {
   "cell_type": "markdown",
   "source": [
    "Hier worden alle benodigde functies gemaakt voor het visualiseren van data uit onze simulatie. Sla voor de resultaten rustig deze sectie over."
   ],
   "metadata": {
    "collapsed": false
   }
  },
  {
   "cell_type": "markdown",
   "source": [
    "## Staafdiagram"
   ],
   "metadata": {
    "collapsed": false
   }
  },
  {
   "cell_type": "code",
   "execution_count": 27,
   "outputs": [],
   "source": [],
   "metadata": {
    "collapsed": false
   }
  },
  {
   "cell_type": "markdown",
   "source": [
    "## Lijngrafiek"
   ],
   "metadata": {
    "collapsed": false
   }
  },
  {
   "cell_type": "code",
   "execution_count": 27,
   "outputs": [],
   "source": [],
   "metadata": {
    "collapsed": false
   }
  },
  {
   "cell_type": "markdown",
   "source": [
    "## Boxplot"
   ],
   "metadata": {
    "collapsed": false
   }
  },
  {
   "cell_type": "code",
   "execution_count": 27,
   "outputs": [],
   "source": [],
   "metadata": {
    "collapsed": false
   }
  },
  {
   "cell_type": "markdown",
   "source": [
    "## Scatterplot"
   ],
   "metadata": {
    "collapsed": false
   }
  },
  {
   "cell_type": "code",
   "execution_count": 27,
   "outputs": [],
   "source": [],
   "metadata": {
    "collapsed": false
   }
  },
  {
   "cell_type": "markdown",
   "source": [
    "## Heatmap"
   ],
   "metadata": {
    "collapsed": false
   }
  },
  {
   "cell_type": "code",
   "execution_count": 27,
   "outputs": [],
   "source": [],
   "metadata": {
    "collapsed": false
   }
  },
  {
   "cell_type": "markdown",
   "source": [
    "## Radar Chart?"
   ],
   "metadata": {
    "collapsed": false
   }
  },
  {
   "cell_type": "markdown",
   "source": [
    "# Inleiding"
   ],
   "metadata": {
    "collapsed": false
   }
  },
  {
   "cell_type": "markdown",
   "source": [
    "In deze Jupyter Notebook zullen we een diepgaande data-analyse uitvoeren op de resultaten verkregen uit onze ziekenhuis-simulatie. Het doel is om hieruit inzicht te krijgen over de optimale beddenconfiguratie om de bezettingsgraad van bedden zo hoog mogelijk te houden, maar ook het aantal afwijzingen te minimaliseren. Op basis van de resultaten geven wij een advies over de ideale beddenconfiguratie."
   ],
   "metadata": {
    "collapsed": false
   }
  },
  {
   "cell_type": "markdown",
   "source": [
    "## Context"
   ],
   "metadata": {
    "collapsed": false
   }
  },
  {
   "cell_type": "markdown",
   "source": [
    "Ziekenhuizen beschikken over zowel aandoening-specifieke als generieke IC-bedden. Zo kan er een ruimte zijn met bedden die gereserveerd is voor patiënten met COVID-19, en een ruimte met generieke (alle overige) aandoeningen.\n",
    "Het voordeel van generieke bedden is dat elk type patiënt hier in kan liggen; de kans op afwijzing van een nieuwe patiënt wordt daardoor kleiner, omdat er enkel geen plek meer zou zijn als elk bed in het ziekenhuis bezet is. Het nadeel is echter dat een patiënt met COVID niet in de ruimte bij niet-COVID patiënten mag liggen wegens kans op besmetting.\n",
    "Daarom is aan ons de taak de optimale beddenconfiguratie te bepalen, zodat bedden goed benut worden zonder veel mensen af te moeten wijzen."
   ],
   "metadata": {
    "collapsed": false
   }
  },
  {
   "cell_type": "markdown",
   "source": [
    "## Aannames"
   ],
   "metadata": {
    "collapsed": false
   }
  },
  {
   "cell_type": "markdown",
   "source": [
    "- Er worden niet met bedden geschoven tussen verschillende afdelingen.\n",
    "- De stroom aan nieuwe COVID-patiënten is redelijk consistent; er is geen sprake van vlagen in bepaalde seizoenen.\n",
    "- Het aantal beschikbare bedden staat vanaf het begin van de simulatie vast.\n",
    "- Zodra een patiënt is ontslagen uit het ziekenhuis, komt zijn bed onmiddellijk vrij.\n",
    "- Ongeplande patiënten krijgen voorrang op geplande patiënten.\n",
    "- Mensen met infectie komen in een daarvoor-bestemde afdeling terecht.\n",
    "- Er wordt geen onderscheid gemaakt tussen COVID-patiënten en patiënten met andere infecties"
   ],
   "metadata": {
    "collapsed": false
   }
  },
  {
   "cell_type": "markdown",
   "source": [
    "## Modelleerkeuzes"
   ],
   "metadata": {
    "collapsed": false
   }
  },
  {
   "cell_type": "markdown",
   "source": [
    "### Finite State Machine"
   ],
   "metadata": {
    "collapsed": false
   }
  },
  {
   "cell_type": "code",
   "execution_count": 28,
   "outputs": [
    {
     "data": {
      "image/png": "[encoded data removed]",
      "text/plain": "<IPython.core.display.Image object>"
     },
     "execution_count": 28,
     "metadata": {},
     "output_type": "execute_result"
    }
   ],
   "source": [
    "Image(filename='FSM.png')"
   ],
   "metadata": {
    "collapsed": false
   }
  },
  {
   "cell_type": "markdown",
   "source": [
    "Wij kiezen ervoor om in ons model gebruik te maken van een FSM, aangezien er duidelijk definieerbare discrete staten zijn waarin agents zich verkeren. Het aantal states is dan ook vrij beperkt en goed te doen. Zie hierboven hoe onze Finite State Machine eruitziet."
   ],
   "metadata": {
    "collapsed": false
   }
  },
  {
   "cell_type": "markdown",
   "source": [
    "### Tijdspanne"
   ],
   "metadata": {
    "collapsed": false
   }
  },
  {
   "cell_type": "markdown",
   "source": [
    "We zullen een periode van 3 maanden simuleren om zo een goed beeld te krijgen van de bezettingsgraad en het aantal afwijzingen over de tijd heen, maar de simulatie snel genoeg draait om hem meerdere malen uit te kunnen voeren."
   ],
   "metadata": {
    "collapsed": false
   }
  },
  {
   "cell_type": "markdown",
   "source": [
    "### Aanpasbare parameters / Te testen configuraties"
   ],
   "metadata": {
    "collapsed": false
   }
  },
  {
   "cell_type": "markdown",
   "source": [
    "Om met onze simulatie tot een volwaardige conclusie te komen, zijn er een verschillende parameters waar we mee willen experimenteren en analyse op uit willen voeren. Deze luiden als volgt:"
   ],
   "metadata": {
    "collapsed": false
   }
  },
  {
   "cell_type": "markdown",
   "source": [
    "- Bedconfiguratie (verdeling bedden over 5 verschillende afdelingen)\n",
    "- Totale bedcapaciteit (20-40 bedden)"
   ],
   "metadata": {
    "collapsed": false
   }
  },
  {
   "cell_type": "code",
   "execution_count": 28,
   "outputs": [],
   "source": [],
   "metadata": {
    "collapsed": false
   }
  },
  {
   "cell_type": "markdown",
   "source": [],
   "metadata": {
    "collapsed": false
   }
  },
  {
   "cell_type": "code",
   "execution_count": 28,
   "outputs": [],
   "source": [],
   "metadata": {
    "collapsed": false
   }
  }
 ],
 "metadata": {
  "kernelspec": {
   "display_name": "Python 3",
   "language": "python",
   "name": "python3"
  },
  "language_info": {
   "codemirror_mode": {
    "name": "ipython",
    "version": 2
   },
   "file_extension": ".py",
   "mimetype": "text/x-python",
   "name": "python",
   "nbconvert_exporter": "python",
   "pygments_lexer": "ipython2",
   "version": "2.7.6"
  }
 },
 "nbformat": 4,
 "nbformat_minor": 0
}
